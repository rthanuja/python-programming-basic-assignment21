{
 "cells": [
  {
   "cell_type": "code",
   "execution_count": 1,
   "id": "c96686fe",
   "metadata": {},
   "outputs": [],
   "source": [
    "'''Write a function that takes a list and a number as arguments. Add the number to the end of the list, then remove the first \n",
    "element of the list. The function should then return the updated list.'''\n",
    "def nextinline(l,e):\n",
    "    if l==[]:\n",
    "        return \"no list has been selected\"\n",
    "    else:\n",
    "        l.append(e)\n",
    "        l.pop(0)\n",
    "    return l"
   ]
  },
  {
   "cell_type": "code",
   "execution_count": 2,
   "id": "fc299580",
   "metadata": {},
   "outputs": [
    {
     "data": {
      "text/plain": [
       "[6, 7, 8, 9, 1]"
      ]
     },
     "execution_count": 2,
     "metadata": {},
     "output_type": "execute_result"
    }
   ],
   "source": [
    "nextinline([5,6,7,8,9],1)"
   ]
  },
  {
   "cell_type": "code",
   "execution_count": 3,
   "id": "91f3f1a4",
   "metadata": {},
   "outputs": [
    {
     "data": {
      "text/plain": [
       "[6, 3, 23, 17, 10]"
      ]
     },
     "execution_count": 3,
     "metadata": {},
     "output_type": "execute_result"
    }
   ],
   "source": [
    "nextinline([7,6,3,23,17],10)"
   ]
  },
  {
   "cell_type": "code",
   "execution_count": 4,
   "id": "b90790fb",
   "metadata": {},
   "outputs": [
    {
     "data": {
      "text/plain": [
       "[10, 20, 42, 6]"
      ]
     },
     "execution_count": 4,
     "metadata": {},
     "output_type": "execute_result"
    }
   ],
   "source": [
    "nextinline([1,10,20,42],6)"
   ]
  },
  {
   "cell_type": "code",
   "execution_count": 5,
   "id": "0945d632",
   "metadata": {},
   "outputs": [
    {
     "data": {
      "text/plain": [
       "'no list has been selected'"
      ]
     },
     "execution_count": 5,
     "metadata": {},
     "output_type": "execute_result"
    }
   ],
   "source": [
    "nextinline([],6)"
   ]
  },
  {
   "cell_type": "code",
   "execution_count": 6,
   "id": "345e2e5f",
   "metadata": {},
   "outputs": [],
   "source": [
    "#Create the function that takes a list of dictionaries and returns the sum of people's budgets.\n",
    "def getbudgets(l):\n",
    "    s=0\n",
    "    for i in range(len(l)):\n",
    "        s+=l[i][\"budget\"]\n",
    "    return s"
   ]
  },
  {
   "cell_type": "code",
   "execution_count": 7,
   "id": "818cf548",
   "metadata": {},
   "outputs": [
    {
     "data": {
      "text/plain": [
       "65700"
      ]
     },
     "execution_count": 7,
     "metadata": {},
     "output_type": "execute_result"
    }
   ],
   "source": [
    "getbudgets([\n",
    "  { \"name\": \"John\", \"age\": 21, \"budget\": 23000 },\n",
    "  { \"name\": \"Steve\",  \"age\": 32, \"budget\": 40000 },\n",
    "  { \"name\": \"Martin\",  \"age\": 16, \"budget\": 2700 }])\n"
   ]
  },
  {
   "cell_type": "code",
   "execution_count": 8,
   "id": "ddef79a1",
   "metadata": {},
   "outputs": [
    {
     "data": {
      "text/plain": [
       "62600"
      ]
     },
     "execution_count": 8,
     "metadata": {},
     "output_type": "execute_result"
    }
   ],
   "source": [
    "getbudgets([\n",
    "  { \"name\": \"John\",  \"age\": 21, \"budget\": 29000 },\n",
    "  { \"name\": \"Steve\",  \"age\": 32, \"budget\": 32000 },\n",
    "  { \"name\": \"Martin\",  \"age\": 16, \"budget\": 1600 }])\n"
   ]
  },
  {
   "cell_type": "code",
   "execution_count": 9,
   "id": "fbfae87a",
   "metadata": {},
   "outputs": [],
   "source": [
    "#Create a function that takes a string and returns a string with its letters in alphabetical order.\n",
    "def alphabets(s):\n",
    "    l=list(s)\n",
    "    l.sort()\n",
    "    s=\"\".join(l)\n",
    "    return s"
   ]
  },
  {
   "cell_type": "code",
   "execution_count": 10,
   "id": "bb75bce2",
   "metadata": {},
   "outputs": [
    {
     "data": {
      "text/plain": [
       "'ehllo'"
      ]
     },
     "execution_count": 10,
     "metadata": {},
     "output_type": "execute_result"
    }
   ],
   "source": [
    "alphabets(\"hello\")"
   ]
  },
  {
   "cell_type": "code",
   "execution_count": 11,
   "id": "4f7d5e4d",
   "metadata": {},
   "outputs": [
    {
     "data": {
      "text/plain": [
       "'abdeit'"
      ]
     },
     "execution_count": 11,
     "metadata": {},
     "output_type": "execute_result"
    }
   ],
   "source": [
    "alphabets(\"edabit\")"
   ]
  },
  {
   "cell_type": "code",
   "execution_count": 12,
   "id": "08dbfd28",
   "metadata": {},
   "outputs": [
    {
     "data": {
      "text/plain": [
       "'acehkr'"
      ]
     },
     "execution_count": 12,
     "metadata": {},
     "output_type": "execute_result"
    }
   ],
   "source": [
    "alphabets(\"hacker\")"
   ]
  },
  {
   "cell_type": "code",
   "execution_count": 13,
   "id": "a51f69e9",
   "metadata": {},
   "outputs": [
    {
     "data": {
      "text/plain": [
       "'eegk'"
      ]
     },
     "execution_count": 13,
     "metadata": {},
     "output_type": "execute_result"
    }
   ],
   "source": [
    "alphabets(\"geek\")"
   ]
  },
  {
   "cell_type": "code",
   "execution_count": 14,
   "id": "86178b5a",
   "metadata": {},
   "outputs": [
    {
     "data": {
      "text/plain": [
       "'aacijprstv'"
      ]
     },
     "execution_count": 14,
     "metadata": {},
     "output_type": "execute_result"
    }
   ],
   "source": [
    "alphabets(\"javascript\")"
   ]
  },
  {
   "cell_type": "code",
   "execution_count": 15,
   "id": "22387501",
   "metadata": {},
   "outputs": [],
   "source": [
    "'''Suppose that you invest $10,000 for 10 years at an interest rate of 6% compounded monthly.What will be the value of your \n",
    "investment at the end of the 10 year period?Create a function that accepts the principal p, the term in years t, the interest\n",
    "rate r, and the number of compounding periods per year n. The function returns the value at the end of term\n",
    "rounded to the nearest cent.'''\n",
    "def compoundinterest(p,t,r,n):\n",
    "    a=p*(1+(r/n))**(n*t)\n",
    "    return round(a,2)\n",
    "    "
   ]
  },
  {
   "cell_type": "code",
   "execution_count": 24,
   "id": "48c7c8b7",
   "metadata": {},
   "outputs": [
    {
     "data": {
      "text/plain": [
       "18193.97"
      ]
     },
     "execution_count": 24,
     "metadata": {},
     "output_type": "execute_result"
    }
   ],
   "source": [
    "compoundinterest(10000,10,0.06,12)"
   ]
  },
  {
   "cell_type": "code",
   "execution_count": 16,
   "id": "f4476cd6",
   "metadata": {},
   "outputs": [
    {
     "data": {
      "text/plain": [
       "105.0"
      ]
     },
     "execution_count": 16,
     "metadata": {},
     "output_type": "execute_result"
    }
   ],
   "source": [
    "compoundinterest(100,1,0.05,1)"
   ]
  },
  {
   "cell_type": "code",
   "execution_count": 17,
   "id": "df843530",
   "metadata": {},
   "outputs": [
    {
     "data": {
      "text/plain": [
       "15399.26"
      ]
     },
     "execution_count": 17,
     "metadata": {},
     "output_type": "execute_result"
    }
   ],
   "source": [
    "compoundinterest(3500,15,0.1,4)"
   ]
  },
  {
   "cell_type": "code",
   "execution_count": 18,
   "id": "831985de",
   "metadata": {},
   "outputs": [
    {
     "data": {
      "text/plain": [
       "2007316.26"
      ]
     },
     "execution_count": 18,
     "metadata": {},
     "output_type": "execute_result"
    }
   ],
   "source": [
    "compoundinterest(100000,20,0.15,365)"
   ]
  },
  {
   "cell_type": "code",
   "execution_count": 19,
   "id": "2217e990",
   "metadata": {},
   "outputs": [],
   "source": [
    "#Write a function that takes a list of elements and returns only the integers.\n",
    "def returnsint(l):\n",
    "    for i in range(len(l)-1,-1,-1):\n",
    "        if type(l[i])==int:\n",
    "            continue\n",
    "        else:\n",
    "            l.pop(i)\n",
    "    return l"
   ]
  },
  {
   "cell_type": "code",
   "execution_count": 20,
   "id": "dee376ec",
   "metadata": {},
   "outputs": [
    {
     "data": {
      "text/plain": [
       "[9, 2, 16]"
      ]
     },
     "execution_count": 20,
     "metadata": {},
     "output_type": "execute_result"
    }
   ],
   "source": [
    "returnsint([9,2,\"space\",\"car\",\"lion\",16])"
   ]
  },
  {
   "cell_type": "code",
   "execution_count": 21,
   "id": "d646f251",
   "metadata": {},
   "outputs": [
    {
     "data": {
      "text/plain": [
       "[81, 123]"
      ]
     },
     "execution_count": 21,
     "metadata": {},
     "output_type": "execute_result"
    }
   ],
   "source": [
    "returnsint([\"hello\",81,\"basketball\",123,\"fox\"])"
   ]
  },
  {
   "cell_type": "code",
   "execution_count": 22,
   "id": "d3cf0476",
   "metadata": {},
   "outputs": [
    {
     "data": {
      "text/plain": [
       "[10, 56, 20, 3]"
      ]
     },
     "execution_count": 22,
     "metadata": {},
     "output_type": "execute_result"
    }
   ],
   "source": [
    "returnsint([10,\"121\",56,20,\"car\",3,\"lion\"])"
   ]
  },
  {
   "cell_type": "code",
   "execution_count": 23,
   "id": "b8baada6",
   "metadata": {},
   "outputs": [
    {
     "data": {
      "text/plain": [
       "[1]"
      ]
     },
     "execution_count": 23,
     "metadata": {},
     "output_type": "execute_result"
    }
   ],
   "source": [
    "returnsint([\"string\",True,3.3,1])"
   ]
  }
 ],
 "metadata": {
  "kernelspec": {
   "display_name": "Python 3 (ipykernel)",
   "language": "python",
   "name": "python3"
  },
  "language_info": {
   "codemirror_mode": {
    "name": "ipython",
    "version": 3
   },
   "file_extension": ".py",
   "mimetype": "text/x-python",
   "name": "python",
   "nbconvert_exporter": "python",
   "pygments_lexer": "ipython3",
   "version": "3.10.9"
  }
 },
 "nbformat": 4,
 "nbformat_minor": 5
}
